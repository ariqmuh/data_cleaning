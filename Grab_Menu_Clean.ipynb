{
 "cells": [
  {
   "cell_type": "code",
   "execution_count": 2,
   "id": "d73435eb-85a6-4574-bd74-35c57d65ef33",
   "metadata": {},
   "outputs": [],
   "source": [
    "import pandas as pd\n",
    "import numpy as np\n",
    "import datetime\n",
    "\n",
    "pd.set_option('display.max_colwidth', None)\n",
    "pd.set_option('display.max_rows', None)"
   ]
  },
  {
   "cell_type": "code",
   "execution_count": 3,
   "id": "3f672eaa-e8bc-428d-b4d3-d612f38ea696",
   "metadata": {},
   "outputs": [],
   "source": [
    "menu = pd.read_csv('Grab Menu.csv')"
   ]
  },
  {
   "cell_type": "code",
   "execution_count": 3,
   "id": "60397da4-788c-4ef7-9724-4c8c8d1cd93d",
   "metadata": {},
   "outputs": [],
   "source": [
    "word_replacements = {\n",
    "    'Jigae': 'Jjigae',\n",
    "    'Jiggae': 'Jjigae',\n",
    "    'JjigaeA':'Jjigae',\n",
    "    'Bibimbab': 'Bibimbap',\n",
    "    'Brocolli': 'Broccoli',\n",
    "    'SumSum':'Sumsum', \n",
    "    'Daily Catering Kids Meal':'Kids Meal',\n",
    "    'Daily Catering - Kids Meal':'Kids Meal',\n",
    "    'FIsh Teriyaki':'Fish Teriyaki',\n",
    "    'potato':'Potato',\n",
    "    'Fisk':'Fish',\n",
    "    'Pinapplr':'Pineapple',\n",
    "    'Sesame Beef Ginger':'Sesame Ginger Beef Rice', \n",
    "    'Mac N Cheezy Livers':'Mac n Cheezy Livers', \n",
    "    'Laftation':'Lactation',\n",
    "    'Mac n Chezy Livers':'Mac n Cheezy Livers',\n",
    "    'Meat pie':'Meat Pie', \n",
    "    'Italian meatball-':'Italian Meatball',\n",
    "    'Pastel  Tutup':'Pastel Tutup', \n",
    "    'Cheezy livers':'Cheezy Livers',\n",
    "    'With':'with'\n",
    "}\n",
    "\n",
    "# Replace the words in the 'text' column\n",
    "menu['Item'] = menu['Item'].replace(word_replacements, regex=True)\n",
    "\n",
    "# Remove words\n",
    "words_to_remove = ['(Ayla Dimitri) ', '  -  MPASI', ' - MPASIA', ' - MPASI STAGE 1 PUREE', ' - MPASI', ' - Mpasi', ' - Bubur Bayi', ' -Bubur Bayi',\n",
    "                   '(PinkFong) ', '[Ayla Dimitri] ', ' Stage 2 Mashed', ' Stage 3 Minced', '[PinkFong] '' - ', \n",
    "                   ' - Stage 1 Puree', ' Stage 1 Puree', ' (', ')', '[PinkFong] ', '[ PinkFong ] ', ' MPASI', ' STAGE 3 MINCED', 'Stage 3 Minced',\n",
    "                  'Stage 1 Puree', '(Ayla Dimitri  ', 'STAGE 1 PUREE', ' 150ml', ' Stage 2', '[PinkFong ] ', ' - Bubir Bayi', ' Mpasi', ' Bubur Bayi',\n",
    "                  'Ayla Dimitri] ', ' - MPASi', '[Sunpride] ', '[Baby Shark] ', ' Stage 3', ' Stage 1', ' - Kids MealProtein Only', ' - Kids Meal']\n",
    "\n",
    "    # Remove the words from the 'text' column\n",
    "for word in words_to_remove:\n",
    "    menu['Item'] = menu['Item'].str.replace(word, '', regex=False)\n",
    "    \n",
    "menu = menu[menu['Item'] != 'Informasi Produk']\n",
    "menu['Date'] = pd.to_datetime(menu['Date'], format='%d/%m/%Y')\n",
    "menu.sort_values(by='Date', inplace=True)"
   ]
  },
  {
   "cell_type": "code",
   "execution_count": null,
   "id": "f1bee9cf-bff4-4eae-9b6b-0189a86a28a4",
   "metadata": {},
   "outputs": [],
   "source": [
    "menu.to_excel('GRab_Menu_Clean.xlsx', index=False)"
   ]
  }
 ],
 "metadata": {
  "kernelspec": {
   "display_name": "Python 3 (ipykernel)",
   "language": "python",
   "name": "python3"
  },
  "language_info": {
   "codemirror_mode": {
    "name": "ipython",
    "version": 3
   },
   "file_extension": ".py",
   "mimetype": "text/x-python",
   "name": "python",
   "nbconvert_exporter": "python",
   "pygments_lexer": "ipython3",
   "version": "3.11.5"
  }
 },
 "nbformat": 4,
 "nbformat_minor": 5
}

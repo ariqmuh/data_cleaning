{
 "cells": [
  {
   "cell_type": "code",
   "execution_count": 7,
   "id": "efb5f925-22a4-471b-bd5d-ca63ee576885",
   "metadata": {},
   "outputs": [],
   "source": [
    "import pandas as pd\n",
    "import numpy as np\n",
    "import datetime\n",
    "\n",
    "pd.set_option('display.max_colwidth', None)\n",
    "pd.set_option('display.max_rows', None)"
   ]
  },
  {
   "cell_type": "code",
   "execution_count": null,
   "id": "76e48a04-9b76-408b-ad37-ed631938de7b",
   "metadata": {},
   "outputs": [],
   "source": [
    "gobiz_menu = pd.read_csv('gobiz.csv')\n",
    "gobiz_menu['ord_id'] = gobiz_menu['ord_id'].fillna(gobiz_menu['gross'])\n",
    "gobiz_menu = gobiz_menu[['ord_id', 'date', 'gross2', 'produk', \n",
    "                         'total', 'qty', 'komisi', 'net']]\n",
    "gobiz_menu.columns = ['ord_id', 'date', 'gross', 'produk', 'total', 'qty', 'komisi', 'net']\n",
    "gobiz_menu = gobiz_menu.dropna(subset=['qty', 'total'])"
   ]
  },
  {
   "cell_type": "code",
   "execution_count": 9,
   "id": "b6e328fe-a60b-41ca-a77b-f0e3e4582d14",
   "metadata": {},
   "outputs": [],
   "source": [
    "word_replacements = {\n",
    "    'Jigae': 'Jjigae',\n",
    "    'Sambel': 'Sambal',\n",
    "    'Bibimbab': 'Bibimbap',\n",
    "    'Brocolli': 'Broccoli',\n",
    "    'Noodles': 'Noodle',\n",
    "    'Sesame Ginger Rice Beef':'Sesame Ginger Beef Rice',\n",
    "    'FIsh':'Fish', 'potato':'Potato', 'Fist':'Fish',\n",
    "    'Mac N Cheezy Livers':'Mac n Cheezy Livers', \n",
    "    'Mac N Cheezy Liver':'Mac n Cheezy Livers',\n",
    "    'Bundling 4 Jar':'Frozen'\n",
    "}\n",
    "\n",
    "# Replace the words in the 'text' column\n",
    "gobiz_menu['produk'] = gobiz_menu['produk'].replace(word_replacements, regex=False)\n",
    "\n",
    "# Remove words\n",
    "words_to_remove = ['(Ayla Dimitri) ', ' - MPASI', ' - Mpasi', '(PinkFong) ', '(Pinkfong) ', '[Ayla Dimitri] ', '[PinkFong] ', '[Pinkfong] ', '[Baby Shark] ',\n",
    "                    '[PinkFong] ', '[ PinkFong ] ', ' MPASI', '(Pin kFong) ', '(Pink Fong) ', '(', '(Pinkfong) ', '- 150ml ', ' - 150Ml', 'PinkFong ',\n",
    "                  ' Mpasi', ' - Bubur Bayi', ' 150ml)', 'Pinkfong ', ' 210 Ml Bubur Bayi', ' 210ml', ' 210Ml', ' Stage 1', ' Stage 3', ' Stage 2',\n",
    "                  ' Protein Only)', 'Daily Catering - ', ' - Kids Meal']\n",
    "\n",
    "# Remove the words from the 'text' column\n",
    "for word in words_to_remove:\n",
    "    gobiz_menu['produk'] = gobiz_menu['produk'].str.replace(word, '', regex=False)"
   ]
  },
  {
   "cell_type": "code",
   "execution_count": 11,
   "id": "ab78ab0a-0ca8-4d10-9dd3-496a53057778",
   "metadata": {},
   "outputs": [],
   "source": [
    "# gobiz_menu[['menu2', 'qty', 'price']] = gobiz_menu['menu'].str.split(' . ', n=2, expand=True)\n",
    "\n",
    "# Strip leading and trailing spaces from the columns\n",
    "gobiz_menu['produk'] = gobiz_menu['produk'].str.strip()\n",
    "gobiz_menu['total'] = gobiz_menu['total'].str.strip()\n",
    "\n",
    "# Remove unwanted characters from 'qty' and 'price' columns\n",
    "gobiz_menu['total'] = gobiz_menu['total'].str.replace('Rp', '').str.replace('.', '').str.strip()\n",
    "\n",
    "gobiz_menu['gross'] = gobiz_menu['gross'].str.replace('Rp ', '', regex=False)\n",
    "gobiz_menu['gross'] = gobiz_menu['gross'].str.replace('.', '', regex=False)\n",
    "gobiz_menu['komisi'] = gobiz_menu['komisi'].str.replace('-Rp ', '', regex=False)\n",
    "gobiz_menu['komisi'] = gobiz_menu['komisi'].str.replace('.', '', regex=False)\n",
    "gobiz_menu['net'] = gobiz_menu['net'].str.replace('Rp ', '', regex=False)\n",
    "gobiz_menu['net'] = gobiz_menu['net'].str.replace('.', '', regex=False)\n",
    "gobiz_menu['total'] = gobiz_menu['total'].str.replace('Rp ', '', regex=False)\n",
    "\n",
    "gobiz_menu['date'] = pd.to_datetime(gobiz_menu['date'], format='%d %B %Y, %H:%M')\n",
    "\n",
    "# Extract date and time into separate columns\n",
    "gobiz_menu['Date'] = gobiz_menu['date'].dt.strftime('%d/%m/%Y')\n",
    "gobiz_menu['Time'] = gobiz_menu['date'].dt.strftime('%H:%M')\n",
    "\n",
    "gobiz_menu.loc[:, ['gross', 'net', 'komisi', 'total']] = gobiz_menu.loc[:, ['gross', 'net', 'komisi', 'total']].apply(lambda x: x.str.replace(',', '.').astype(float).astype(int))\n",
    "gobiz_menu = gobiz_menu[['ord_id', 'gross', 'Date', 'Time', 'produk', 'qty', 'total', 'net', 'komisi']]\n",
    "gobiz_menu.sort_values(['Date', 'Time'], inplace=True)"
   ]
  },
  {
   "cell_type": "code",
   "execution_count": null,
   "id": "58b4f55d-4b90-4000-b249-5074eb5835a5",
   "metadata": {},
   "outputs": [],
   "source": [
    "gobiz_menu.to_excel('Gobiz_Menu_Clean.xlsx', index=False)"
   ]
  }
 ],
 "metadata": {
  "kernelspec": {
   "display_name": "Python 3 (ipykernel)",
   "language": "python",
   "name": "python3"
  },
  "language_info": {
   "codemirror_mode": {
    "name": "ipython",
    "version": 3
   },
   "file_extension": ".py",
   "mimetype": "text/x-python",
   "name": "python",
   "nbconvert_exporter": "python",
   "pygments_lexer": "ipython3",
   "version": "3.11.5"
  }
 },
 "nbformat": 4,
 "nbformat_minor": 5
}
